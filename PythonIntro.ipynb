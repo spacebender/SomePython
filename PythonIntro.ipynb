{
 "cells": [
  {
   "cell_type": "markdown",
   "metadata": {},
   "source": [
    "# Python Introduction \n",
    "Some feew selected topics of python introduction from \"Edureka\" youtube 12 hrs video on python \n",
    "- Single and Multi Line Comments\n",
    "- Docstring COmments\n",
    "- Variable allocation\n",
    "- Types of **data types** \n",
    "    - *Numbers*\n",
    "        - Integer\n",
    "        - Float\n",
    "        - Boolean\n",
    "        - Complex\n",
    "    - *String*\n",
    "    - *List*\n",
    "    - *Tuples*\n",
    "    - *Dictionaries*\n",
    "    - *Set*\n",
    "- Range\n",
    "- Conversion of data types\n",
    "- Collections in Python\n",
    "- Arrays\n",
    "- Hash Table and HashMaps\n",
    "- Numpy\n",
    "- Scipy"
   ],
   "execution_count": null,
   "outputs": []
  },
  {
   "cell_type": "code",
   "execution_count": null,
   "metadata": {},
   "outputs": [],
   "source": [
    "print('Hello World') "
   ]
  },
  {
   "cell_type": "markdown",
   "metadata": {},
   "source": [
    "# Single line comments"
   ],
   "execution_count": null,
   "outputs": []
  },
  {
   "cell_type": "code",
   "execution_count": null,
   "metadata": {},
   "outputs": [],
   "source": [
    "# individual single line comments \n",
    "a = 2\n",
    "b = 2\n",
    "a + b"
   ]
  },
  {
   "cell_type": "markdown",
   "metadata": {},
   "source": [
    "# Multi Line Comments "
   ],
   "execution_count": null,
   "outputs": []
  },
  {
   "cell_type": "code",
   "execution_count": null,
   "metadata": {},
   "outputs": [],
   "source": [
    "# Comments in opython \n",
    "# multiniw \n",
    "# program \n",
    "a  = 4 \n",
    "b = 7 \n",
    "a*b"
   ]
  },
  {
   "cell_type": "code",
   "execution_count": null,
   "metadata": {},
   "outputs": [],
   "source": [
    " #comments \n",
    " #multiline \n",
    " #shortcut ctrl + select +type hash"
   ]
  },
  {
   "cell_type": "markdown",
   "metadata": {},
   "source": [
    "# DocString Comments "
   ],
   "execution_count": null,
   "outputs": []
  },
  {
   "cell_type": "code",
   "execution_count": null,
   "metadata": {},
   "outputs": [],
   "source": [
    "\"\"\"\n",
    "docstrings are not omitted by the interpreter comments are omitted\n",
    "\"\"\""
   ]
  },
  {
   "cell_type": "code",
   "execution_count": null,
   "metadata": {},
   "outputs": [],
   "source": [
    "\"\"\"\n",
    "docstrings are not omitted by the interpreter comments are omitted\n",
    "\"\"\"\n",
    "a = 1\n",
    "b = 2\n",
    "a + b"
   ]
  },
  {
   "cell_type": "code",
   "execution_count": null,
   "metadata": {},
   "outputs": [],
   "source": [
    "# note that the above above docstring is not returened "
   ]
  },
  {
   "cell_type": "code",
   "execution_count": null,
   "metadata": {},
   "outputs": [],
   "source": [
    "#Including the docstrings after code the docstrings will get dosp[layed \n",
    "a = 1\n",
    "b = 2\n",
    "a + b\n",
    "\"\"\"\n",
    "docstrings are not omitted by the interpreter comments are omitted\n",
    "\"\"\""
   ]
  },
  {
   "cell_type": "markdown",
   "metadata": {},
   "source": [
    "# Variables"
   ],
   "execution_count": null,
   "outputs": []
  },
  {
   "cell_type": "code",
   "execution_count": null,
   "metadata": {},
   "outputs": [],
   "source": [
    "x = 10\n",
    "y = 12\n",
    "x + y\n",
    "x*y"
   ]
  },
  {
   "cell_type": "code",
   "execution_count": null,
   "metadata": {},
   "outputs": [],
   "source": [
    "Y = 20"
   ]
  },
  {
   "cell_type": "markdown",
   "metadata": {},
   "source": [
    "# Data Types"
   ],
   "execution_count": null,
   "outputs": []
  },
  {
   "cell_type": "markdown",
   "metadata": {},
   "source": [
    "# #Numbers"
   ],
   "execution_count": null,
   "outputs": []
  },
  {
   "cell_type": "markdown",
   "metadata": {},
   "source": [
    "- Integer\n",
    "- Float\n",
    "- Complex\n",
    "- Boolean"
   ],
   "execution_count": null,
   "outputs": []
  },
  {
   "cell_type": "code",
   "execution_count": null,
   "metadata": {},
   "outputs": [],
   "source": [
    "x = 10"
   ]
  },
  {
   "cell_type": "code",
   "execution_count": null,
   "metadata": {},
   "outputs": [],
   "source": [
    "type(x)"
   ]
  },
  {
   "cell_type": "code",
   "execution_count": null,
   "metadata": {},
   "outputs": [],
   "source": [
    "x = 10.25"
   ]
  },
  {
   "cell_type": "code",
   "execution_count": null,
   "metadata": {},
   "outputs": [],
   "source": [
    "type(x)"
   ]
  },
  {
   "cell_type": "code",
   "execution_count": null,
   "metadata": {},
   "outputs": [],
   "source": [
    "x = 10j\n",
    "type(x)"
   ]
  },
  {
   "cell_type": "code",
   "execution_count": null,
   "metadata": {},
   "outputs": [],
   "source": [
    "num = 10>3\n",
    "type(num)"
   ]
  },
  {
   "cell_type": "markdown",
   "metadata": {},
   "source": [
    "## Strings\n",
    "- Can use Single or Double Quotes\n",
    "- \\ can be used to escape quotes"
   ],
   "execution_count": null,
   "outputs": []
  },
  {
   "cell_type": "code",
   "execution_count": null,
   "metadata": {},
   "outputs": [],
   "source": [
    "'spam eggs'"
   ]
  },
  {
   "cell_type": "code",
   "execution_count": null,
   "metadata": {},
   "outputs": [],
   "source": [
    "print('doesn\\'t') # use to escape single quote\n",
    "# or one can use double quotes \n",
    "print(\"doesn't\")\n",
    "print('\"Yes,\" they said.')\n",
    "print(\"\\\"Yes,\\\" they said.\")\n",
    "print('\"Isn\\'t,\" they said.')\n",
    "print('C:\\some\\name')  # here \\n means newline!\n",
    "print(r'C:\\some\\name')  # note the r before the quote (called as raw string)"
   ]
  },
  {
   "cell_type": "code",
   "execution_count": null,
   "metadata": {},
   "outputs": [],
   "source": [
    "name  = 'edureka'"
   ]
  },
  {
   "cell_type": "code",
   "execution_count": null,
   "metadata": {},
   "outputs": [],
   "source": [
    "name.capitalize()"
   ]
  },
  {
   "cell_type": "code",
   "execution_count": null,
   "metadata": {},
   "outputs": [],
   "source": [
    "name.casefold()"
   ]
  },
  {
   "cell_type": "code",
   "execution_count": null,
   "metadata": {},
   "outputs": [],
   "source": [
    "name.encode(endoing = \"utf-8\",errors = \"strict\")"
   ]
  },
  {
   "cell_type": "code",
   "execution_count": null,
   "metadata": {},
   "outputs": [],
   "source": [
    "len(name)"
   ]
  },
  {
   "cell_type": "code",
   "execution_count": null,
   "metadata": {},
   "outputs": [],
   "source": [
    "\"\"\"Index numbers in Python start with the number 0\"\"\""
   ]
  },
  {
   "cell_type": "code",
   "execution_count": null,
   "metadata": {},
   "outputs": [],
   "source": [
    "name[1]"
   ]
  },
  {
   "cell_type": "code",
   "execution_count": null,
   "metadata": {},
   "outputs": [],
   "source": [
    "name[2:8]"
   ]
  },
  {
   "cell_type": "code",
   "execution_count": null,
   "metadata": {},
   "outputs": [],
   "source": [
    "name[2:7]"
   ]
  },
  {
   "cell_type": "code",
   "execution_count": null,
   "metadata": {},
   "outputs": [],
   "source": [
    "name[2:6]"
   ]
  },
  {
   "cell_type": "code",
   "execution_count": null,
   "metadata": {},
   "outputs": [],
   "source": [
    "name.upper()"
   ]
  },
  {
   "cell_type": "code",
   "execution_count": null,
   "metadata": {},
   "outputs": [],
   "source": [
    "name.lower()"
   ]
  },
  {
   "cell_type": "code",
   "execution_count": null,
   "metadata": {},
   "outputs": [],
   "source": [
    "name[-2]"
   ]
  },
  {
   "cell_type": "code",
   "execution_count": null,
   "metadata": {},
   "outputs": [],
   "source": [
    "name[2]"
   ]
  },
  {
   "cell_type": "code",
   "execution_count": null,
   "metadata": {},
   "outputs": [],
   "source": [
    "name[5]"
   ]
  },
  {
   "cell_type": "markdown",
   "metadata": {},
   "source": [
    "## List "
   ],
   "execution_count": null,
   "outputs": []
  },
  {
   "cell_type": "markdown",
   "metadata": {},
   "source": [
    "- Ordered,can be changed.Duplicate entries are present\n",
    "- <code> Example: Fruits ['apple'.'kiwi','banana']</code> "
   ],
   "execution_count": null,
   "outputs": []
  },
  {
   "cell_type": "code",
   "execution_count": null,
   "metadata": {},
   "outputs": [],
   "source": [
    "mylist = [10,20,30,'graph','courses']"
   ]
  },
  {
   "cell_type": "code",
   "execution_count": null,
   "metadata": {},
   "outputs": [],
   "source": [
    "mylist"
   ]
  },
  {
   "cell_type": "code",
   "execution_count": null,
   "metadata": {},
   "outputs": [],
   "source": [
    "acces = mylist[2:5]\n",
    "mylist[2] = 35 #changes the values of the second string\n",
    "print(mylist)\n",
    "mylist.append(10) # add the value at the end of the list\n",
    "print(mylist)\n",
    "mylist.insert(5,100) # insert the value 100 in the middle\n",
    "print(mylist)\n",
    "mylist.reverse() # reverses the list\n",
    "print(mylist)"
   ]
  },
  {
   "cell_type": "markdown",
   "metadata": {},
   "source": [
    "# Dictionaries\n",
    "- Unordered ,can be changed.NO Duplicate entries are present\n",
    "- <code> Examples : animals = {'reptiles':'snake' , 'mammals': 'whale'} </code>"
   ],
   "execution_count": null,
   "outputs": []
  },
  {
   "cell_type": "code",
   "execution_count": null,
   "metadata": {},
   "outputs": [],
   "source": [
    "courses = {1:'python',\n",
    "           2:'datascience',\n",
    "          'third': 'machine learning'}"
   ]
  },
  {
   "cell_type": "code",
   "execution_count": null,
   "metadata": {},
   "outputs": [],
   "source": [
    "courses"
   ]
  },
  {
   "cell_type": "code",
   "execution_count": null,
   "metadata": {},
   "outputs": [],
   "source": [
    "courses['third'] # Get the third value\n",
    "print(courses)\n",
    "courses.get('third') # get the third value\n",
    "courses['third'] = 'police' # Change the third value\n",
    "print(courses)\n",
    "courses['four'] = 'machine learning' # Add one more value\n",
    "print(courses)"
   ]
  },
  {
   "cell_type": "markdown",
   "metadata": {},
   "source": [
    "# Tuple\n",
    "- Ordered , cannot be chnaged. Duplicate entries are present\n",
    "- <code> animals = ('lion', 'tiger', 'monkey')<\\code>\n",
    "- <code> print(animals)"
   ],
   "execution_count": null,
   "outputs": []
  },
  {
   "cell_type": "code",
   "execution_count": null,
   "metadata": {},
   "outputs": [],
   "source": [
    "animals = (10, 20 ,30, 'lion', 'tiger', 'monkey','tiger')\n",
    "print(animals)\n",
    "print(animals[2])\n",
    "print(animals.count('tiger'))"
   ]
  },
  {
   "cell_type": "markdown",
   "metadata": {},
   "source": [
    "# Set\n",
    "- Unordered and NO duplicate entries present\n",
    "- <code> animals = {\"lion\", \"monkey\", \"snake\"}</code>\n",
    "- <code> print(animals) </code>"
   ],
   "execution_count": null,
   "outputs": []
  },
  {
   "cell_type": "code",
   "execution_count": null,
   "metadata": {},
   "outputs": [],
   "source": [
    "myset = {10,20,30,40,40,30,'edureka','courses'}\n",
    "print(myset)\n",
    "print('note that the duplicate values have been removed by itself')\n",
    "print('also no indexing is there')"
   ]
  },
  {
   "cell_type": "markdown",
   "metadata": {},
   "source": [
    "# Range"
   ],
   "execution_count": null,
   "outputs": []
  },
  {
   "cell_type": "code",
   "execution_count": null,
   "metadata": {},
   "outputs": [],
   "source": [
    "range(10)\n",
    "\n",
    "list(range(11))"
   ]
  },
  {
   "cell_type": "code",
   "execution_count": null,
   "metadata": {},
   "outputs": [],
   "source": [
    "range(10)"
   ]
  },
  {
   "cell_type": "markdown",
   "metadata": {},
   "source": [
    "# Lets do an Example"
   ],
   "execution_count": null,
   "outputs": []
  },
  {
   "cell_type": "code",
   "execution_count": null,
   "metadata": {},
   "outputs": [],
   "source": [
    "a = [1,2,3,4]\n",
    "b = {4,5,6,4,6}\n",
    "c = [a,b]\n",
    "print(c)"
   ]
  },
  {
   "cell_type": "markdown",
   "metadata": {},
   "source": [
    "## Type conversion\n",
    "- int() - Changes any data type to integer data type\n",
    "- float() - Changes any data type to integer float type\n",
    "- tuple() - Changes any data type to tuple data type\n",
    "- list() - Changes any data type to list\n",
    "- set() - Changes any data type to Set\n",
    "- dict() - Changes any data type to dictionary"
   ],
   "execution_count": null,
   "outputs": []
  },
  {
   "cell_type": "code",
   "execution_count": null,
   "metadata": {},
   "outputs": [],
   "source": [
    "name = 'name'\n",
    "x = 10\n",
    "x + name"
   ]
  },
  {
   "cell_type": "code",
   "execution_count": null,
   "metadata": {},
   "outputs": [],
   "source": [
    "# note that we get error \n",
    "# Now convert\n",
    "str(x) + name"
   ]
  },
  {
   "cell_type": "code",
   "execution_count": null,
   "metadata": {},
   "outputs": [],
   "source": [
    "list(b)"
   ]
  },
  {
   "cell_type": "markdown",
   "metadata": {},
   "source": [
    "# Python Collections"
   ],
   "execution_count": null,
   "outputs": []
  },
  {
   "cell_type": "markdown",
   "metadata": {},
   "source": [
    "## Agenda\n",
    "- Whar are collections in python\n",
    "- What is a collection module in python?\n",
    "- Specialised Collections data types\n",
    "## Types of collections\n",
    "   There are four types of collections data types \n",
    "- Lists - declare square brackets, duplicates allowed , indexing possible,mutable,indexing \n",
    "- Tuples - ordered and immutable , duplicate \n",
    "- Sets - unordered ,curly brackets, no duplicate entries, no indexing\n",
    "- Dictionary - key value pairs, mutable , curly brackets , indexing \n",
    "# Collection Module in Python \n",
    "- has specialised data structures \n",
    "- provides alternatives to built in data tyoes and overcomes the short commings \n",
    "## Specialised Collection Data Types \n",
    "- namedtuple() - returns a tuple with a named value for each element in the tuple. Actual tuples have no named value which is a short coming <br>\n",
    "<code> details = (name = 'edureka' , course = 'python' , course2 = 'data science' </code>\n",
    "- Chainmap - Dictionary like class for crating a single view of multiple mappings <br>\n",
    "<code> A = {1:'edureka\" ,2:python} \n",
    "    B = {3:data science' , 4: AI'}\n",
    "    \n",
    "    [{1:'edureka\" ,2:python} ,{3:data science' , 4: AI'}] </code>\n",
    "- deque - Optimized liset for performing insertion and deletion easily\n",
    "- Counter - Dictionary  Subclass for counting hashable objects <br>\n",
    " <code> A = [1,2,1,2,1,2,3,4,5,6,7,2,1,2]\n",
    "    count = counter(a)\n",
    "    counter({1:4, 2:5, 3:1, 4:1, 5:1, 6:1,7:1}) \n",
    "</code>\n",
    "        \n",
    "- OrderedDictionary - It is  a dictionary subclass which remembers the order in which the entries were done.\n",
    "<code> od = collections.OrderedDict()\n",
    "    od['a'] = 2\n",
    "    od['b'] = 1\n",
    "    od['c'] = 3\n",
    "    Print(od)</code>\n",
    "- defaultDictionary \n",
    "- UserDictionary -  a wrapper sround dictionary object for easier dictionary sub classing\n",
    "- UserList - a wrapper around list objects for easier list sub-classing\n",
    "- UserString - a wrapper around string objects for easier list sub-classing"
   ],
   "execution_count": null,
   "outputs": []
  },
  {
   "cell_type": "code",
   "execution_count": null,
   "metadata": {},
   "outputs": [],
   "source": [
    "from collections import namedtuple\n",
    "\n",
    "a = namedtuple('courses','name , technology')\n",
    "S = a('data science', 'python')\n",
    "S1 = a._make(['artificial intelligence' , 'python']) # tuple using list\n",
    "Point = namedtuple('Point', ['x', 'y'], verbose=True)\n",
    "print(S)\n",
    "print(S1)"
   ]
  },
  {
   "cell_type": "code",
   "execution_count": null,
   "metadata": {},
   "outputs": [],
   "source": [
    "from collections import deque\n",
    "a = ['e','d','r','e','k','a']\n",
    "d = deque(a)\n",
    "print(d)\n",
    "\n",
    "d.append('python')\n",
    "print(d)\n",
    "d.appendleft('python')\n",
    "print(d)\n",
    "d.pop()\n",
    "print(d)\n",
    "d.popleft()\n",
    "print(d)"
   ]
  },
  {
   "cell_type": "code",
   "execution_count": null,
   "metadata": {},
   "outputs": [],
   "source": [
    "from collections import ChainMap\n",
    "A = {1:'edureka' ,2:'python'} \n",
    "B = {3:'data science' , 4: 'AI'}\n",
    "a1 = ChainMap(A,B)\n",
    "print(a1)"
   ]
  },
  {
   "cell_type": "code",
   "execution_count": null,
   "metadata": {},
   "outputs": [],
   "source": [
    "from collections import Counter\n",
    "A = [1,2,1,2,1,2,3,4,5,6,7,2,1,2]\n",
    "c = Counter(A)\n",
    "print(c)  \n",
    "\n",
    "print(list(c.elements()))\n",
    "print(c.most_common())\n",
    "sub = {2:1, 1:1, 3:1}\n",
    "print(c.subtract(sub))\n",
    "print(c.most_common())"
   ]
  },
  {
   "cell_type": "code",
   "execution_count": null,
   "metadata": {},
   "outputs": [],
   "source": [
    "from collections import OrderedDict\n",
    "d = OrderedDict()\n",
    "d[1] = 'e'\n",
    "d[2] = 'd'\n",
    "d[3] = 'u'\n",
    "print(d)\n",
    "d.keys()\n",
    "print(d.items())\n",
    "d[1] = 'p'\n",
    "print(d)\n",
    ""
   ]
  },
  {
   "cell_type": "code",
   "execution_count": null,
   "metadata": {},
   "outputs": [],
   "source": [
    "from collections import defaultdict\n",
    "d = defaultdict(int)\n",
    "d[1] = 'pyhton'\n",
    "d[2] = 'edureka'\n",
    "print(d)\n",
    "print(d[3]) # Even if the third key is not there it still shows '0' instead of a 'key error'\n",
    "a = {1:'python', 2:'edureka'} # normal dictionary: note that third key is not there and shows a key error\n",
    "print(a[3])"
   ]
  },
  {
   "cell_type": "markdown",
   "metadata": {},
   "source": [
    "# Arrays\n",
    "\n",
    "## Agenda\n",
    "- What is an array?\n",
    "    -  An array is basically a **data strucrure** which can hold more than one value at a time. It is a collection or ordered series of elements of the same type.\n",
    "- Is python list same as an array?\n",
    "    - Arrays and lists store in the same way.\n",
    "    - Arrays can take only single data type elements but lists can have any type of data.\n",
    "    - Therefore other than few operations the kind of operations performed on them are different.\n",
    "- How to create an array in Python?\n",
    "    - Array in python can be created after importing array module. There are three methods.\n",
    "        - Without alias $\\rightarrow$ import array\n",
    "        - Using alias  $\\rightarrow$ import array as arr\n",
    "        - Using * $\\rightarrow$ from array import *\n",
    "    \n",
    "- Accesing array elements.\n",
    "    - Acces elements using index values\n",
    "    - Ondexing starts from 0 and not 1. Hence the index number is always less than 1\n",
    "    - Negative index values can also be used. The point to rememeber is negative indexing starts from the reverse order of traversal i.e from right to left\n",
    "- Basic array operations\n",
    "    - Finding the length of an array\n",
    "    - Addition\n",
    "    - Removal\n",
    "    - Concatenation\n",
    "    - Slicing\n",
    "    - Looping\n",
    "        - for - iterates over the items of an array specified number of times \n",
    "        - while - iterates over the elemnts until some condition is met."
   ],
   "execution_count": null,
   "outputs": []
  },
  {
   "cell_type": "code",
   "execution_count": null,
   "metadata": {},
   "outputs": [],
   "source": [
    "# Method 1\n",
    "# ---------\n",
    "#import array\n",
    "#a = array.array('i',[1,2,3,4,5,6]) # array(name of the module).array(constructor)([i(type code-integer)])\n",
    "#a\n",
    "\n",
    "\n",
    ""
   ]
  },
  {
   "cell_type": "code",
   "execution_count": null,
   "metadata": {},
   "outputs": [],
   "source": [
    "# method 2\n",
    "import array as arr\n",
    "# arr is an alias name \n",
    "a = arr.array('i',[1,2,3,4,5,6])\n",
    "a\n",
    "# Accessing array elemnts \n",
    "print(a[2])\n",
    "\n",
    "# Finding the length of an array\n",
    "len(a)\n",
    "\n",
    "# Adding elements(use 'append,extend or insert' function) \n",
    "a.append(10)\n",
    "print(\"Array a = \",a)\n",
    "a.extend([6,7,8,9])\n",
    "print(\"Array a = \",a)\n",
    "a.insert(3,12)\n",
    "print(\"Array a = \",a)\n",
    "\n",
    "# Remove elements \n",
    "a.pop(2) # pop accepts no argument(last value gets removed) or one argument(index value)\n",
    "print(\"Array a = \",a)\n",
    "a.remove(9) #(removes the element 9)\n",
    "print(\"Array a = \",a)\n",
    "a.pop(-2)\n",
    "print(\"Array a = \",a)\n",
    "\n",
    "# Array concantenation (data type should be same )\n",
    "\n",
    "b = arr.array('i',[89,76,54,875])\n",
    "c = a+b\n",
    "print(\"Concatenated array  c = \",c)\n",
    "\n",
    "# Slicing operation\n",
    "print('Sliced array c = ',c[-2:-7])\n",
    "print('Sliced array c = ',c[2:7])\n",
    "print('Reversed array c = ',c[::-1]) # reversing array - not used bcz it exhausts the memory\n",
    "\n",
    "# Looping \n",
    "print('Sliced array c = ',c[-2:-7])\n",
    "\n",
    "for x in c: \n",
    "    print(x)\n",
    "\n",
    "for some in c[0:-4]:\n",
    "    print(\"sliced\",some)\n",
    "\n",
    "\n",
    "temp = 0\n",
    "print(c)\n",
    "while temp<c[2]:\n",
    "    print(c[temp])\n",
    "    temp = temp +1    #temp+=1\n",
    "\n",
    "tem = 0\n",
    "while tem<len(c):\n",
    "    print(c[tem])\n",
    "    tem+=1\n",
    "\n",
    "\n",
    "\n",
    "\n",
    "\n",
    "\n",
    "\n",
    "\n",
    "\n",
    "\n",
    "\n",
    ""
   ]
  },
  {
   "cell_type": "code",
   "execution_count": null,
   "metadata": {},
   "outputs": [],
   "source": [
    "# method 3\n",
    "#from array import *\n",
    "#a = array('i',[1,2,3,4,5,6])\n",
    "#a"
   ]
  },
  {
   "cell_type": "markdown",
   "metadata": {},
   "source": [
    "# Hash Table and HashMap\n",
    "## Agenda\n",
    "- What is Hash Table and Hash Maps?\n",
    "    - Type of data structure that maps keys to its value pairs.\n",
    "- Creating Dictionaries(can be cereted in two ways)\n",
    "     - usinh '{}'\n",
    "     - using <code>dict()<code> function \n",
    "- Nested Dictionaries\n",
    "- Performing operations on hash tables\n",
    "    - Accessing items\n",
    "    - Updating Values\n",
    "    - Deleting Enteries\n",
    "- Converting Dictionary to DataFrame\n",
    "    - What is DataFrame? - Its is a 2-D data structure that consists of coloumns of various types. It is very similar to Python **dictionary** and you can even convert dictionary into Pandas dataframe "
   ],
   "execution_count": null,
   "outputs": []
  },
  {
   "cell_type": "code",
   "execution_count": null,
   "metadata": {},
   "outputs": [],
   "source": [
    "# Cretaing dictionaries \n",
    "# Method 1\n",
    "my_dict = {'Dave':'001','Ava':'002', 'Joe': '003'}\n",
    "print(my_dict)\n",
    "print('type of the variable is' , type(my_dict))"
   ]
  },
  {
   "cell_type": "code",
   "execution_count": null,
   "metadata": {},
   "outputs": [],
   "source": [
    "# Method 2 -  Using dict() sunction\n",
    "new_dict = dict()   # new_dict os currently empty\n",
    "print(new_dict)\n",
    "print('type of the variable is' , type(new_dict))\n",
    "new_dict = dict(Dave = '001',Ava = '002')\n",
    "print(new_dict)"
   ]
  },
  {
   "cell_type": "code",
   "execution_count": null,
   "metadata": {},
   "outputs": [],
   "source": [
    "# Nested Dictionaries\n",
    "emp_details  = {'Employee':{'Dave':{'ID':'001','Salary':'2000','Designation':'TechAssist'},\n",
    "                           'Ava':{'ID':'002','Salary':'1000','Designation':'Assist'}}}\n",
    "print(emp_details)"
   ]
  },
  {
   "cell_type": "code",
   "execution_count": null,
   "metadata": {},
   "outputs": [],
   "source": [
    "# Performing operations in Hsh table \n",
    "# Accesing items \n",
    "my_dict['Dave']"
   ]
  },
  {
   "cell_type": "code",
   "execution_count": null,
   "metadata": {},
   "outputs": [],
   "source": [
    "print(my_dict)\n",
    "print(my_dict.keys())\n",
    "print(my_dict.values())\n",
    "\n",
    "print(my_dict.get('Ava'))\n",
    "\n",
    "# Same above using for loop\n",
    "for f in my_dict:\n",
    "    print(f)\n",
    "\n",
    "for g in my_dict.values():\n",
    "    print(g)\n",
    "\n",
    "for x,y in my_dict.items():\n",
    "    print(x,y)\n",
    "\n",
    ""
   ]
  },
  {
   "cell_type": "code",
   "execution_count": null,
   "metadata": {},
   "outputs": [],
   "source": [
    "# Upadating Values -  DOnt forget dictionaries are mutable hence updating possible\n",
    "my_dict['Dave'] = '004'\n",
    "my_dict['Chris'] = '003'\n",
    "print(my_dict)\n",
    ""
   ]
  },
  {
   "cell_type": "code",
   "execution_count": null,
   "metadata": {},
   "outputs": [],
   "source": [
    "# Deleting from dictionaries \n",
    "my_dict.pop('Ava')"
   ]
  },
  {
   "cell_type": "code",
   "execution_count": null,
   "metadata": {},
   "outputs": [],
   "source": [
    "my_dict.popitem()"
   ]
  },
  {
   "cell_type": "code",
   "execution_count": null,
   "metadata": {},
   "outputs": [],
   "source": [
    "del my_dict['Joe']"
   ]
  },
  {
   "cell_type": "code",
   "execution_count": null,
   "metadata": {},
   "outputs": [],
   "source": [
    "print(my_dict)"
   ]
  },
  {
   "cell_type": "code",
   "execution_count": null,
   "metadata": {},
   "outputs": [],
   "source": [
    "# Converting Dictionaries into Dta frame \n",
    "import pandas as pd\n",
    "df = pd.DataFrame(emp_details['Employee'])\n",
    "print(df)"
   ]
  },
  {
   "cell_type": "markdown",
   "metadata": {},
   "source": [
    "# Operators in Python\n",
    "## Types of operators\n",
    "- Arithmetic =  +, -, *, /, % , **, //\n",
    "- Assignment - used to assign values (=, +=, -=, *=, %=, **=, //=, |=, ^=, &=)\n",
    "- Comparison -(==, !=, >, <, <=, >=)\n",
    "- Logical \n",
    "- Membership\n",
    "- Identity\n",
    "- Bitwise"
   ],
   "execution_count": null,
   "outputs": []
  },
  {
   "cell_type": "code",
   "execution_count": null,
   "metadata": {},
   "outputs": [],
   "source": [
    "x = 10\n",
    "y = 20\n",
    "print(x + y)\n",
    "print(x - y)\n",
    "print(x *y)\n",
    "print(x**y)\n",
    "print(x // y)\n",
    "print(x % y)"
   ]
  },
  {
   "cell_type": "code",
   "execution_count": null,
   "metadata": {},
   "outputs": [],
   "source": [
    "# Assignment\n",
    "x = 10\n",
    "y = 20\n",
    "x += 5"
   ]
  },
  {
   "cell_type": "code",
   "execution_count": null,
   "metadata": {},
   "outputs": [],
   "source": [
    "# Comparison \n",
    "x = 10\n",
    "y = 20\n",
    "print(x > y)\n",
    "print(x < y)\n",
    "print(x == y)\n",
    "print(x <= y)\n",
    "print(x >=  y)\n",
    "print(x != y)"
   ]
  },
  {
   "cell_type": "code",
   "execution_count": null,
   "metadata": {},
   "outputs": [],
   "source": [
    "# Conditional statments(for logical operators)\n",
    "if x == y:\n",
    "    print('equal')\n",
    "elif x>y:\n",
    "    print('greater')\n",
    "else:\n",
    "    print('idontknow')\n",
    "    "
   ]
  },
  {
   "cell_type": "markdown",
   "metadata": {},
   "source": [
    "# Numpy\n",
    "## Agenda\n",
    "- What is Numpy?\n",
    "    - Is a core libarray for scientific computing\n",
    "    - It provides a high performance multidimensional arary object, and tools for working with these arrays.\n",
    "    - Uses multidimensional array \n",
    "    - Suited for random numbers , Linear algebra etc \n",
    "- Numpy vs List\n",
    "    - Less Memory, Fast, Convinient\n",
    "- Numpy Operations\n",
    "    - FInd dimension\n",
    "    - Calculate byte size\n",
    "    - FInd data types\n",
    "    - Find size of array\n",
    "    - Shape of array\n",
    "    - Can perform reshape\n",
    "    - Slicing\n",
    "    - Min,Max and \n",
    "    - Axis operations(rows are axis-1 and coloumns are axis 0)\n",
    "    - Square root \n",
    "    - standard deviations\n",
    "    - Addition/Mult/sub/division\n",
    "- NumpySpecial Functions\n",
    "    - Sin, Cosine function\n",
    "    - exponential , log function\n"
   ],
   "execution_count": null,
   "outputs": []
  },
  {
   "cell_type": "code",
   "execution_count": null,
   "metadata": {},
   "outputs": [],
   "source": [
    "import numpy as np\n",
    "a = np.array([1,2,3])# one dimensional array\n",
    "print(a)"
   ]
  },
  {
   "cell_type": "code",
   "execution_count": null,
   "metadata": {},
   "outputs": [],
   "source": [
    "a = np.array([(1,2,3),(4,5,6)]) # two dimensional array\n",
    "print(a)"
   ]
  },
  {
   "cell_type": "code",
   "execution_count": null,
   "metadata": {},
   "outputs": [],
   "source": [
    "import time \n",
    "import sys\n",
    "# define a list\n",
    "S = range(1000)\n",
    "print(sys.getsizeof(5)*len(S))\n",
    "D = np.arange(1000)\n",
    "print(D.size*D.itemsize)"
   ]
  },
  {
   "cell_type": "code",
   "execution_count": null,
   "metadata": {},
   "outputs": [],
   "source": [
    "# why numpy is faster\n",
    "SIZE = 1000000\n",
    "# create two list\n",
    "L1 = range(SIZE)\n",
    "L2 = range(SIZE)\n",
    "\n",
    "A1 = np.arange(SIZE)\n",
    "A2 = np.arange(SIZE)\n",
    "\n",
    "start = time.time()\n",
    "result = [(x,y) for x,y in zip(L1,L2)]\n",
    "print((time.time()-start)*1000)\n",
    "start = time.time()\n",
    "result = A1+A2\n",
    "print((time.time()-start)*1000)"
   ]
  },
  {
   "cell_type": "code",
   "execution_count": null,
   "metadata": {},
   "outputs": [],
   "source": [
    "# Operations\n",
    "a = np.array([(1,2,3),(2,33,4)])\n",
    "print(a.ndim)# checks the \n",
    "print(a.itemsize)\n",
    "print(a.dtype)\n",
    "print(a.size)# number of elements\n",
    "print(a.shape)\n",
    "\n",
    "b = np.array([(1,2,3,4),(3,4,5,6),(7,8,9,10)])\n",
    "print(b)\n",
    "b1 = b.reshape(4,3)\n",
    "print(b)\n",
    "\n",
    "# SLicinh \n",
    "print(b[0,2])\n",
    "print(b[1,2])\n",
    "print(b[0:,3])\n",
    "print(b[0:2,3])\n",
    "\n",
    "c = np.linspace(1,3,5)\n",
    "print(c)\n",
    "\n",
    "d = np.array([1,2,3])\n",
    "print(d.max())\n",
    "print(d.sum())\n",
    "\n",
    "e = np.array([(1,2,3),(3,4,5)])\n",
    "print(e.sum(axis = 0))\n",
    "print(e.sum(axis = 1))\n",
    "\n",
    "print(np.sqrt(e))\n",
    "print(np.std(e))\n",
    "\n",
    "print(a + e)\n",
    "print(a - e)\n",
    "print(a/e)\n",
    "print(np.vstack((a,e)))\n",
    "print(np.hstack((a,e)))\n",
    "print(a.ravel())\n",
    "\n",
    ""
   ]
  },
  {
   "cell_type": "code",
   "execution_count": null,
   "metadata": {},
   "outputs": [],
   "source": [
    "# Numpy Special functions\n",
    "# we need to import matplotlib\n",
    "import matplotlib.pyplot as plt\n",
    "x = np.arange(0,3*np.pi, 0.1)\n",
    "y = np.sin(x)\n",
    "plt.plot(x,y)\n",
    "plt.show()\n",
    "\n",
    "x = np.arange(0,3*np.pi, 0.1)\n",
    "y = np.cos(x)\n",
    "plt.plot(x,y)\n",
    "plt.show()\n",
    "\n",
    "x = np.arange(0,3*np.pi, 0.1)\n",
    "y = np.tan(x)\n",
    "plt.plot(x,y)\n",
    "plt.show()"
   ]
  },
  {
   "cell_type": "code",
   "execution_count": null,
   "metadata": {},
   "outputs": [],
   "source": [
    "ar = np.array([1,2,3])\n",
    "print(np.exp(ar))\n",
    "print(np.log(ar))# natural log\n",
    "print(np.log10(ar))"
   ]
  },
  {
   "cell_type": "markdown",
   "metadata": {},
   "source": [
    "# SciPy\n",
    "## Agenda\n",
    "- What is SciPy? \n",
    "    - Is a library used to solve scientific and mathematical problems\n",
    "    - Built on Numpy\n",
    "    - Allows manipulation and visualizing\n",
    "    - Import Scipy then no need to import numpy\n",
    "- Whats is difference between Numpy and Scipy\n",
    "    - Both are used for **_mathematical and numerical analysis_**\n",
    "    - Numpy contains **_array data_** and basic operations\n",
    "    - **_Scipy_** consists of all the **_numerical code_**\n",
    "    - Scipy contains fully-featured versions of mathematical and scientific functions\n",
    "- Subpackages in SciPy\n",
    "    - **_Cluster_**   - Clustering Algorithms\n",
    "    - **_constants_** - Physical and Mathematical Constants\n",
    "    - **_fftpack_**   - Fast fourier transform routines\n",
    "    - **_integrate_**  - Integration and ODE solvers\n",
    "    - **_interpolate_** - Interpolation and smoothing splines\n",
    "    - **_io_**          - Input and Output\n",
    "    - **_linalg_**      - Linear Algebra\n",
    "    - **_ndimage_**     - N_dimensional image processing\n",
    "    - **_odr_**         - Orthogonal distance regression\n",
    "    - **_optimize_**    - Optimization and root finding routines\n",
    "    - **_routines_**    - Signal Processing\n",
    "    - **_sparse_**      - Sparse matrices and associated routines\n",
    "    - **_spatial_**     - Spatial data structures and algorithms\n",
    "    - **_special_**     - Special functions\n",
    "    - **_stats_**       - Statistical distributions and functions\n",
    "- Basic functions\n",
    "    - **_help()_** - returns information about any function keyword or class\n",
    "    - **_info()_** - returns information about any function keyword or class\n",
    "    - **_source_**  - Returns only source code for objects written in python\n",
    "- Special Functions\n",
    "    - Functions that are avilable for mathematical physics\n",
    "    - Some of these functions include gamma, beta, hypergeometric, parabolic cylinder etc\n",
    "    - We see about exponential and trignometric functions\n",
    "- Integration Functions\n",
    "    - Deals with adding slices to determine teh whole. Integration can be used to find displacement, area etc\n",
    "    - It provides a function named <code>quad<code> and <code>dblquad<code>\n",
    "- Fourier Transforms\n",
    "    - Fourier analysis is a method that bdeals with expressing a function as a sum of periodic components and recovering the signal from those components\n",
    "    - we can use <code>fft<code> and <code>ifft<code>\n",
    "- Linear Algebra\n",
    "    - **_Scipy_** is built on ATLAS LAPACK and BLAS libraries and is extremely fast in solving problems related to lienar algebra.\n",
    "- Interpolation\n",
    "    - **_Interpolation_** refers to constructiung new data points within a set of known data points. \n",
    "    - The <code>scipy.interpolate<code> consists of spline functions and classes, one-dimensional and multidimensional(univariate and multivariate) interpolation classes, etc"
   ],
   "execution_count": null,
   "outputs": []
  },
  {
   "cell_type": "code",
   "execution_count": null,
   "metadata": {},
   "outputs": [],
   "source": [
    "from scipy import cluster\n",
    "# These are the ways that one can get help about the function. Note that you need to import the function before calling for help\n",
    "#help(cluster)\n",
    "#help()\n",
    "#import scipy\n",
    "#scipy.info(cluster)\n",
    "#scipy.source(cluster)"
   ]
  },
  {
   "cell_type": "markdown",
   "metadata": {},
   "source": [
    "### Special functions"
   ],
   "execution_count": null,
   "outputs": []
  },
  {
   "cell_type": "code",
   "execution_count": null,
   "metadata": {},
   "outputs": [],
   "source": [
    "from scipy import special\n",
    "a = special.exp10(2) # 10^2\n",
    "print(a)\n",
    "b = special.exp2(2) # 2^3\n",
    "print(b)\n",
    "# Trignometric \n",
    "c = special.sindg(90)\n",
    "print(c)\n",
    "d = special.cosdg(90)\n",
    "print(d)\n",
    ""
   ]
  },
  {
   "cell_type": "code",
   "execution_count": null,
   "metadata": {},
   "outputs": [],
   "source": [
    "from scipy import integrate\n",
    ""
   ]
  },
  {
   "cell_type": "code",
   "execution_count": null,
   "metadata": {},
   "outputs": [],
   "source": [
    "help(integrate.quad)"
   ]
  },
  {
   "cell_type": "code",
   "execution_count": null,
   "metadata": {},
   "outputs": [],
   "source": [
    "i = integrate.quad(lambda x:special.exp10(x),0,1)\n",
    "print(i)"
   ]
  },
  {
   "cell_type": "code",
   "execution_count": null,
   "metadata": {},
   "outputs": [],
   "source": [
    "e = lambda x,y: x*y**2\n",
    "f = lambda x: 1\n",
    "g = lambda x: -1\n",
    "integrate.dblquad(e,0,2,f,g)"
   ]
  },
  {
   "cell_type": "code",
   "execution_count": null,
   "metadata": {},
   "outputs": [],
   "source": [
    "from scipy.fftpack import fft,ifft\n",
    "x = np.array([1,2,3,4])\n",
    "y = fft(x)\n",
    "y_inv = ifft(x)\n",
    "print(y)\n",
    "print(y_inv)"
   ]
  },
  {
   "cell_type": "code",
   "execution_count": null,
   "metadata": {},
   "outputs": [],
   "source": [
    "# Linear Algebra\n",
    "from scipy import linalg\n",
    "Mat_A = np.array([[1,2],[3,4]])\n",
    "Mat_B = linalg.inv(Mat_A)\n",
    "print(Mat_B)"
   ]
  },
  {
   "cell_type": "code",
   "execution_count": 330,
   "metadata": {},
   "outputs": [
    {
     "output_type": "display_data",
     "data": {
      "text/plain": "<Figure size 432x288 with 1 Axes>",
      "image/svg+xml": "<?xml version=\"1.0\" encoding=\"utf-8\" standalone=\"no\"?>\r\n<!DOCTYPE svg PUBLIC \"-//W3C//DTD SVG 1.1//EN\"\r\n  \"http://www.w3.org/Graphics/SVG/1.1/DTD/svg11.dtd\">\r\n<!-- Created with matplotlib (https://matplotlib.org/) -->\r\n<svg height=\"248.518125pt\" version=\"1.1\" viewBox=\"0 0 375.2875 248.518125\" width=\"375.2875pt\" xmlns=\"http://www.w3.org/2000/svg\" xmlns:xlink=\"http://www.w3.org/1999/xlink\">\r\n <defs>\r\n  <style type=\"text/css\">\r\n*{stroke-linecap:butt;stroke-linejoin:round;}\r\n  </style>\r\n </defs>\r\n <g id=\"figure_1\">\r\n  <g id=\"patch_1\">\r\n   <path d=\"M 0 248.518125 \r\nL 375.2875 248.518125 \r\nL 375.2875 0 \r\nL 0 0 \r\nz\r\n\" style=\"fill:none;\"/>\r\n  </g>\r\n  <g id=\"axes_1\">\r\n   <g id=\"patch_2\">\r\n    <path d=\"M 33.2875 224.64 \r\nL 368.0875 224.64 \r\nL 368.0875 7.2 \r\nL 33.2875 7.2 \r\nz\r\n\" style=\"fill:#ffffff;\"/>\r\n   </g>\r\n   <g id=\"matplotlib.axis_1\">\r\n    <g id=\"xtick_1\">\r\n     <g id=\"line2d_1\">\r\n      <defs>\r\n       <path d=\"M 0 0 \r\nL 0 3.5 \r\n\" id=\"mf7e9648aed\" style=\"stroke:#000000;stroke-width:0.8;\"/>\r\n      </defs>\r\n      <g>\r\n       <use style=\"stroke:#000000;stroke-width:0.8;\" x=\"70.245942\" xlink:href=\"#mf7e9648aed\" y=\"224.64\"/>\r\n      </g>\r\n     </g>\r\n     <g id=\"text_1\">\r\n      <!-- 6 -->\r\n      <defs>\r\n       <path d=\"M 33.015625 40.375 \r\nQ 26.375 40.375 22.484375 35.828125 \r\nQ 18.609375 31.296875 18.609375 23.390625 \r\nQ 18.609375 15.53125 22.484375 10.953125 \r\nQ 26.375 6.390625 33.015625 6.390625 \r\nQ 39.65625 6.390625 43.53125 10.953125 \r\nQ 47.40625 15.53125 47.40625 23.390625 \r\nQ 47.40625 31.296875 43.53125 35.828125 \r\nQ 39.65625 40.375 33.015625 40.375 \r\nz\r\nM 52.59375 71.296875 \r\nL 52.59375 62.3125 \r\nQ 48.875 64.0625 45.09375 64.984375 \r\nQ 41.3125 65.921875 37.59375 65.921875 \r\nQ 27.828125 65.921875 22.671875 59.328125 \r\nQ 17.53125 52.734375 16.796875 39.40625 \r\nQ 19.671875 43.65625 24.015625 45.921875 \r\nQ 28.375 48.1875 33.59375 48.1875 \r\nQ 44.578125 48.1875 50.953125 41.515625 \r\nQ 57.328125 34.859375 57.328125 23.390625 \r\nQ 57.328125 12.15625 50.6875 5.359375 \r\nQ 44.046875 -1.421875 33.015625 -1.421875 \r\nQ 20.359375 -1.421875 13.671875 8.265625 \r\nQ 6.984375 17.96875 6.984375 36.375 \r\nQ 6.984375 53.65625 15.1875 63.9375 \r\nQ 23.390625 74.21875 37.203125 74.21875 \r\nQ 40.921875 74.21875 44.703125 73.484375 \r\nQ 48.484375 72.75 52.59375 71.296875 \r\nz\r\n\" id=\"DejaVuSans-54\"/>\r\n      </defs>\r\n      <g transform=\"translate(67.064692 239.238437)scale(0.1 -0.1)\">\r\n       <use xlink:href=\"#DejaVuSans-54\"/>\r\n      </g>\r\n     </g>\r\n    </g>\r\n    <g id=\"xtick_2\">\r\n     <g id=\"line2d_2\">\r\n      <g>\r\n       <use style=\"stroke:#000000;stroke-width:0.8;\" x=\"113.726461\" xlink:href=\"#mf7e9648aed\" y=\"224.64\"/>\r\n      </g>\r\n     </g>\r\n     <g id=\"text_2\">\r\n      <!-- 8 -->\r\n      <defs>\r\n       <path d=\"M 31.78125 34.625 \r\nQ 24.75 34.625 20.71875 30.859375 \r\nQ 16.703125 27.09375 16.703125 20.515625 \r\nQ 16.703125 13.921875 20.71875 10.15625 \r\nQ 24.75 6.390625 31.78125 6.390625 \r\nQ 38.8125 6.390625 42.859375 10.171875 \r\nQ 46.921875 13.96875 46.921875 20.515625 \r\nQ 46.921875 27.09375 42.890625 30.859375 \r\nQ 38.875 34.625 31.78125 34.625 \r\nz\r\nM 21.921875 38.8125 \r\nQ 15.578125 40.375 12.03125 44.71875 \r\nQ 8.5 49.078125 8.5 55.328125 \r\nQ 8.5 64.0625 14.71875 69.140625 \r\nQ 20.953125 74.21875 31.78125 74.21875 \r\nQ 42.671875 74.21875 48.875 69.140625 \r\nQ 55.078125 64.0625 55.078125 55.328125 \r\nQ 55.078125 49.078125 51.53125 44.71875 \r\nQ 48 40.375 41.703125 38.8125 \r\nQ 48.828125 37.15625 52.796875 32.3125 \r\nQ 56.78125 27.484375 56.78125 20.515625 \r\nQ 56.78125 9.90625 50.3125 4.234375 \r\nQ 43.84375 -1.421875 31.78125 -1.421875 \r\nQ 19.734375 -1.421875 13.25 4.234375 \r\nQ 6.78125 9.90625 6.78125 20.515625 \r\nQ 6.78125 27.484375 10.78125 32.3125 \r\nQ 14.796875 37.15625 21.921875 38.8125 \r\nz\r\nM 18.3125 54.390625 \r\nQ 18.3125 48.734375 21.84375 45.5625 \r\nQ 25.390625 42.390625 31.78125 42.390625 \r\nQ 38.140625 42.390625 41.71875 45.5625 \r\nQ 45.3125 48.734375 45.3125 54.390625 \r\nQ 45.3125 60.0625 41.71875 63.234375 \r\nQ 38.140625 66.40625 31.78125 66.40625 \r\nQ 25.390625 66.40625 21.84375 63.234375 \r\nQ 18.3125 60.0625 18.3125 54.390625 \r\nz\r\n\" id=\"DejaVuSans-56\"/>\r\n      </defs>\r\n      <g transform=\"translate(110.545211 239.238437)scale(0.1 -0.1)\">\r\n       <use xlink:href=\"#DejaVuSans-56\"/>\r\n      </g>\r\n     </g>\r\n    </g>\r\n    <g id=\"xtick_3\">\r\n     <g id=\"line2d_3\">\r\n      <g>\r\n       <use style=\"stroke:#000000;stroke-width:0.8;\" x=\"157.206981\" xlink:href=\"#mf7e9648aed\" y=\"224.64\"/>\r\n      </g>\r\n     </g>\r\n     <g id=\"text_3\">\r\n      <!-- 10 -->\r\n      <defs>\r\n       <path d=\"M 12.40625 8.296875 \r\nL 28.515625 8.296875 \r\nL 28.515625 63.921875 \r\nL 10.984375 60.40625 \r\nL 10.984375 69.390625 \r\nL 28.421875 72.90625 \r\nL 38.28125 72.90625 \r\nL 38.28125 8.296875 \r\nL 54.390625 8.296875 \r\nL 54.390625 0 \r\nL 12.40625 0 \r\nz\r\n\" id=\"DejaVuSans-49\"/>\r\n       <path d=\"M 31.78125 66.40625 \r\nQ 24.171875 66.40625 20.328125 58.90625 \r\nQ 16.5 51.421875 16.5 36.375 \r\nQ 16.5 21.390625 20.328125 13.890625 \r\nQ 24.171875 6.390625 31.78125 6.390625 \r\nQ 39.453125 6.390625 43.28125 13.890625 \r\nQ 47.125 21.390625 47.125 36.375 \r\nQ 47.125 51.421875 43.28125 58.90625 \r\nQ 39.453125 66.40625 31.78125 66.40625 \r\nz\r\nM 31.78125 74.21875 \r\nQ 44.046875 74.21875 50.515625 64.515625 \r\nQ 56.984375 54.828125 56.984375 36.375 \r\nQ 56.984375 17.96875 50.515625 8.265625 \r\nQ 44.046875 -1.421875 31.78125 -1.421875 \r\nQ 19.53125 -1.421875 13.0625 8.265625 \r\nQ 6.59375 17.96875 6.59375 36.375 \r\nQ 6.59375 54.828125 13.0625 64.515625 \r\nQ 19.53125 74.21875 31.78125 74.21875 \r\nz\r\n\" id=\"DejaVuSans-48\"/>\r\n      </defs>\r\n      <g transform=\"translate(150.844481 239.238437)scale(0.1 -0.1)\">\r\n       <use xlink:href=\"#DejaVuSans-49\"/>\r\n       <use x=\"63.623047\" xlink:href=\"#DejaVuSans-48\"/>\r\n      </g>\r\n     </g>\r\n    </g>\r\n    <g id=\"xtick_4\">\r\n     <g id=\"line2d_4\">\r\n      <g>\r\n       <use style=\"stroke:#000000;stroke-width:0.8;\" x=\"200.6875\" xlink:href=\"#mf7e9648aed\" y=\"224.64\"/>\r\n      </g>\r\n     </g>\r\n     <g id=\"text_4\">\r\n      <!-- 12 -->\r\n      <defs>\r\n       <path d=\"M 19.1875 8.296875 \r\nL 53.609375 8.296875 \r\nL 53.609375 0 \r\nL 7.328125 0 \r\nL 7.328125 8.296875 \r\nQ 12.9375 14.109375 22.625 23.890625 \r\nQ 32.328125 33.6875 34.8125 36.53125 \r\nQ 39.546875 41.84375 41.421875 45.53125 \r\nQ 43.3125 49.21875 43.3125 52.78125 \r\nQ 43.3125 58.59375 39.234375 62.25 \r\nQ 35.15625 65.921875 28.609375 65.921875 \r\nQ 23.96875 65.921875 18.8125 64.3125 \r\nQ 13.671875 62.703125 7.8125 59.421875 \r\nL 7.8125 69.390625 \r\nQ 13.765625 71.78125 18.9375 73 \r\nQ 24.125 74.21875 28.421875 74.21875 \r\nQ 39.75 74.21875 46.484375 68.546875 \r\nQ 53.21875 62.890625 53.21875 53.421875 \r\nQ 53.21875 48.921875 51.53125 44.890625 \r\nQ 49.859375 40.875 45.40625 35.40625 \r\nQ 44.1875 33.984375 37.640625 27.21875 \r\nQ 31.109375 20.453125 19.1875 8.296875 \r\nz\r\n\" id=\"DejaVuSans-50\"/>\r\n      </defs>\r\n      <g transform=\"translate(194.325 239.238437)scale(0.1 -0.1)\">\r\n       <use xlink:href=\"#DejaVuSans-49\"/>\r\n       <use x=\"63.623047\" xlink:href=\"#DejaVuSans-50\"/>\r\n      </g>\r\n     </g>\r\n    </g>\r\n    <g id=\"xtick_5\">\r\n     <g id=\"line2d_5\">\r\n      <g>\r\n       <use style=\"stroke:#000000;stroke-width:0.8;\" x=\"244.168019\" xlink:href=\"#mf7e9648aed\" y=\"224.64\"/>\r\n      </g>\r\n     </g>\r\n     <g id=\"text_5\">\r\n      <!-- 14 -->\r\n      <defs>\r\n       <path d=\"M 37.796875 64.3125 \r\nL 12.890625 25.390625 \r\nL 37.796875 25.390625 \r\nz\r\nM 35.203125 72.90625 \r\nL 47.609375 72.90625 \r\nL 47.609375 25.390625 \r\nL 58.015625 25.390625 \r\nL 58.015625 17.1875 \r\nL 47.609375 17.1875 \r\nL 47.609375 0 \r\nL 37.796875 0 \r\nL 37.796875 17.1875 \r\nL 4.890625 17.1875 \r\nL 4.890625 26.703125 \r\nz\r\n\" id=\"DejaVuSans-52\"/>\r\n      </defs>\r\n      <g transform=\"translate(237.805519 239.238437)scale(0.1 -0.1)\">\r\n       <use xlink:href=\"#DejaVuSans-49\"/>\r\n       <use x=\"63.623047\" xlink:href=\"#DejaVuSans-52\"/>\r\n      </g>\r\n     </g>\r\n    </g>\r\n    <g id=\"xtick_6\">\r\n     <g id=\"line2d_6\">\r\n      <g>\r\n       <use style=\"stroke:#000000;stroke-width:0.8;\" x=\"287.648539\" xlink:href=\"#mf7e9648aed\" y=\"224.64\"/>\r\n      </g>\r\n     </g>\r\n     <g id=\"text_6\">\r\n      <!-- 16 -->\r\n      <g transform=\"translate(281.286039 239.238437)scale(0.1 -0.1)\">\r\n       <use xlink:href=\"#DejaVuSans-49\"/>\r\n       <use x=\"63.623047\" xlink:href=\"#DejaVuSans-54\"/>\r\n      </g>\r\n     </g>\r\n    </g>\r\n    <g id=\"xtick_7\">\r\n     <g id=\"line2d_7\">\r\n      <g>\r\n       <use style=\"stroke:#000000;stroke-width:0.8;\" x=\"331.129058\" xlink:href=\"#mf7e9648aed\" y=\"224.64\"/>\r\n      </g>\r\n     </g>\r\n     <g id=\"text_7\">\r\n      <!-- 18 -->\r\n      <g transform=\"translate(324.766558 239.238437)scale(0.1 -0.1)\">\r\n       <use xlink:href=\"#DejaVuSans-49\"/>\r\n       <use x=\"63.623047\" xlink:href=\"#DejaVuSans-56\"/>\r\n      </g>\r\n     </g>\r\n    </g>\r\n   </g>\r\n   <g id=\"matplotlib.axis_2\">\r\n    <g id=\"ytick_1\">\r\n     <g id=\"line2d_8\">\r\n      <defs>\r\n       <path d=\"M 0 0 \r\nL -3.5 0 \r\n\" id=\"mba67fb5ee7\" style=\"stroke:#000000;stroke-width:0.8;\"/>\r\n      </defs>\r\n      <g>\r\n       <use style=\"stroke:#000000;stroke-width:0.8;\" x=\"33.2875\" xlink:href=\"#mba67fb5ee7\" y=\"216.632837\"/>\r\n      </g>\r\n     </g>\r\n     <g id=\"text_8\">\r\n      <!-- 0 -->\r\n      <g transform=\"translate(19.925 220.432056)scale(0.1 -0.1)\">\r\n       <use xlink:href=\"#DejaVuSans-48\"/>\r\n      </g>\r\n     </g>\r\n    </g>\r\n    <g id=\"ytick_2\">\r\n     <g id=\"line2d_9\">\r\n      <g>\r\n       <use style=\"stroke:#000000;stroke-width:0.8;\" x=\"33.2875\" xlink:href=\"#mba67fb5ee7\" y=\"181.190833\"/>\r\n      </g>\r\n     </g>\r\n     <g id=\"text_9\">\r\n      <!-- 100 -->\r\n      <g transform=\"translate(7.2 184.990051)scale(0.1 -0.1)\">\r\n       <use xlink:href=\"#DejaVuSans-49\"/>\r\n       <use x=\"63.623047\" xlink:href=\"#DejaVuSans-48\"/>\r\n       <use x=\"127.246094\" xlink:href=\"#DejaVuSans-48\"/>\r\n      </g>\r\n     </g>\r\n    </g>\r\n    <g id=\"ytick_3\">\r\n     <g id=\"line2d_10\">\r\n      <g>\r\n       <use style=\"stroke:#000000;stroke-width:0.8;\" x=\"33.2875\" xlink:href=\"#mba67fb5ee7\" y=\"145.748828\"/>\r\n      </g>\r\n     </g>\r\n     <g id=\"text_10\">\r\n      <!-- 200 -->\r\n      <g transform=\"translate(7.2 149.548047)scale(0.1 -0.1)\">\r\n       <use xlink:href=\"#DejaVuSans-50\"/>\r\n       <use x=\"63.623047\" xlink:href=\"#DejaVuSans-48\"/>\r\n       <use x=\"127.246094\" xlink:href=\"#DejaVuSans-48\"/>\r\n      </g>\r\n     </g>\r\n    </g>\r\n    <g id=\"ytick_4\">\r\n     <g id=\"line2d_11\">\r\n      <g>\r\n       <use style=\"stroke:#000000;stroke-width:0.8;\" x=\"33.2875\" xlink:href=\"#mba67fb5ee7\" y=\"110.306824\"/>\r\n      </g>\r\n     </g>\r\n     <g id=\"text_11\">\r\n      <!-- 300 -->\r\n      <defs>\r\n       <path d=\"M 40.578125 39.3125 \r\nQ 47.65625 37.796875 51.625 33 \r\nQ 55.609375 28.21875 55.609375 21.1875 \r\nQ 55.609375 10.40625 48.1875 4.484375 \r\nQ 40.765625 -1.421875 27.09375 -1.421875 \r\nQ 22.515625 -1.421875 17.65625 -0.515625 \r\nQ 12.796875 0.390625 7.625 2.203125 \r\nL 7.625 11.71875 \r\nQ 11.71875 9.328125 16.59375 8.109375 \r\nQ 21.484375 6.890625 26.8125 6.890625 \r\nQ 36.078125 6.890625 40.9375 10.546875 \r\nQ 45.796875 14.203125 45.796875 21.1875 \r\nQ 45.796875 27.640625 41.28125 31.265625 \r\nQ 36.765625 34.90625 28.71875 34.90625 \r\nL 20.21875 34.90625 \r\nL 20.21875 43.015625 \r\nL 29.109375 43.015625 \r\nQ 36.375 43.015625 40.234375 45.921875 \r\nQ 44.09375 48.828125 44.09375 54.296875 \r\nQ 44.09375 59.90625 40.109375 62.90625 \r\nQ 36.140625 65.921875 28.71875 65.921875 \r\nQ 24.65625 65.921875 20.015625 65.03125 \r\nQ 15.375 64.15625 9.8125 62.3125 \r\nL 9.8125 71.09375 \r\nQ 15.4375 72.65625 20.34375 73.4375 \r\nQ 25.25 74.21875 29.59375 74.21875 \r\nQ 40.828125 74.21875 47.359375 69.109375 \r\nQ 53.90625 64.015625 53.90625 55.328125 \r\nQ 53.90625 49.265625 50.4375 45.09375 \r\nQ 46.96875 40.921875 40.578125 39.3125 \r\nz\r\n\" id=\"DejaVuSans-51\"/>\r\n      </defs>\r\n      <g transform=\"translate(7.2 114.106043)scale(0.1 -0.1)\">\r\n       <use xlink:href=\"#DejaVuSans-51\"/>\r\n       <use x=\"63.623047\" xlink:href=\"#DejaVuSans-48\"/>\r\n       <use x=\"127.246094\" xlink:href=\"#DejaVuSans-48\"/>\r\n      </g>\r\n     </g>\r\n    </g>\r\n    <g id=\"ytick_5\">\r\n     <g id=\"line2d_12\">\r\n      <g>\r\n       <use style=\"stroke:#000000;stroke-width:0.8;\" x=\"33.2875\" xlink:href=\"#mba67fb5ee7\" y=\"74.86482\"/>\r\n      </g>\r\n     </g>\r\n     <g id=\"text_12\">\r\n      <!-- 400 -->\r\n      <g transform=\"translate(7.2 78.664039)scale(0.1 -0.1)\">\r\n       <use xlink:href=\"#DejaVuSans-52\"/>\r\n       <use x=\"63.623047\" xlink:href=\"#DejaVuSans-48\"/>\r\n       <use x=\"127.246094\" xlink:href=\"#DejaVuSans-48\"/>\r\n      </g>\r\n     </g>\r\n    </g>\r\n    <g id=\"ytick_6\">\r\n     <g id=\"line2d_13\">\r\n      <g>\r\n       <use style=\"stroke:#000000;stroke-width:0.8;\" x=\"33.2875\" xlink:href=\"#mba67fb5ee7\" y=\"39.422816\"/>\r\n      </g>\r\n     </g>\r\n     <g id=\"text_13\">\r\n      <!-- 500 -->\r\n      <defs>\r\n       <path d=\"M 10.796875 72.90625 \r\nL 49.515625 72.90625 \r\nL 49.515625 64.59375 \r\nL 19.828125 64.59375 \r\nL 19.828125 46.734375 \r\nQ 21.96875 47.46875 24.109375 47.828125 \r\nQ 26.265625 48.1875 28.421875 48.1875 \r\nQ 40.625 48.1875 47.75 41.5 \r\nQ 54.890625 34.8125 54.890625 23.390625 \r\nQ 54.890625 11.625 47.5625 5.09375 \r\nQ 40.234375 -1.421875 26.90625 -1.421875 \r\nQ 22.3125 -1.421875 17.546875 -0.640625 \r\nQ 12.796875 0.140625 7.71875 1.703125 \r\nL 7.71875 11.625 \r\nQ 12.109375 9.234375 16.796875 8.0625 \r\nQ 21.484375 6.890625 26.703125 6.890625 \r\nQ 35.15625 6.890625 40.078125 11.328125 \r\nQ 45.015625 15.765625 45.015625 23.390625 \r\nQ 45.015625 31 40.078125 35.4375 \r\nQ 35.15625 39.890625 26.703125 39.890625 \r\nQ 22.75 39.890625 18.8125 39.015625 \r\nQ 14.890625 38.140625 10.796875 36.28125 \r\nz\r\n\" id=\"DejaVuSans-53\"/>\r\n      </defs>\r\n      <g transform=\"translate(7.2 43.222034)scale(0.1 -0.1)\">\r\n       <use xlink:href=\"#DejaVuSans-53\"/>\r\n       <use x=\"63.623047\" xlink:href=\"#DejaVuSans-48\"/>\r\n       <use x=\"127.246094\" xlink:href=\"#DejaVuSans-48\"/>\r\n      </g>\r\n     </g>\r\n    </g>\r\n   </g>\r\n   <g id=\"line2d_14\">\r\n    <defs>\r\n     <path d=\"M 0 3 \r\nC 0.795609 3 1.55874 2.683901 2.12132 2.12132 \r\nC 2.683901 1.55874 3 0.795609 3 0 \r\nC 3 -0.795609 2.683901 -1.55874 2.12132 -2.12132 \r\nC 1.55874 -2.683901 0.795609 -3 0 -3 \r\nC -0.795609 -3 -1.55874 -2.683901 -2.12132 -2.12132 \r\nC -2.683901 -1.55874 -3 -0.795609 -3 0 \r\nC -3 0.795609 -2.683901 1.55874 -2.12132 2.12132 \r\nC -1.55874 2.683901 -0.795609 3 0 3 \r\nz\r\n\" id=\"m76b3ff030f\" style=\"stroke:#1f77b4;\"/>\r\n    </defs>\r\n    <g clip-path=\"url(#p865fed20f5)\">\r\n     <use style=\"fill:#1f77b4;stroke:#1f77b4;\" x=\"48.505682\" xlink:href=\"#m76b3ff030f\" y=\"214.756364\"/>\r\n     <use style=\"fill:#1f77b4;stroke:#1f77b4;\" x=\"70.245942\" xlink:href=\"#m76b3ff030f\" y=\"214.014007\"/>\r\n     <use style=\"fill:#1f77b4;stroke:#1f77b4;\" x=\"91.986201\" xlink:href=\"#m76b3ff030f\" y=\"212.977966\"/>\r\n     <use style=\"fill:#1f77b4;stroke:#1f77b4;\" x=\"113.726461\" xlink:href=\"#m76b3ff030f\" y=\"211.532054\"/>\r\n     <use style=\"fill:#1f77b4;stroke:#1f77b4;\" x=\"135.466721\" xlink:href=\"#m76b3ff030f\" y=\"209.51412\"/>\r\n     <use style=\"fill:#1f77b4;stroke:#1f77b4;\" x=\"157.206981\" xlink:href=\"#m76b3ff030f\" y=\"206.697867\"/>\r\n     <use style=\"fill:#1f77b4;stroke:#1f77b4;\" x=\"178.94724\" xlink:href=\"#m76b3ff030f\" y=\"202.76747\"/>\r\n     <use style=\"fill:#1f77b4;stroke:#1f77b4;\" x=\"200.6875\" xlink:href=\"#m76b3ff030f\" y=\"197.282158\"/>\r\n     <use style=\"fill:#1f77b4;stroke:#1f77b4;\" x=\"222.42776\" xlink:href=\"#m76b3ff030f\" y=\"189.626789\"/>\r\n     <use style=\"fill:#1f77b4;stroke:#1f77b4;\" x=\"244.168019\" xlink:href=\"#m76b3ff030f\" y=\"178.942861\"/>\r\n     <use style=\"fill:#1f77b4;stroke:#1f77b4;\" x=\"265.908279\" xlink:href=\"#m76b3ff030f\" y=\"164.032239\"/>\r\n     <use style=\"fill:#1f77b4;stroke:#1f77b4;\" x=\"287.648539\" xlink:href=\"#m76b3ff030f\" y=\"143.222789\"/>\r\n     <use style=\"fill:#1f77b4;stroke:#1f77b4;\" x=\"309.388799\" xlink:href=\"#m76b3ff030f\" y=\"114.180861\"/>\r\n     <use style=\"fill:#1f77b4;stroke:#1f77b4;\" x=\"331.129058\" xlink:href=\"#m76b3ff030f\" y=\"73.649587\"/>\r\n     <use style=\"fill:#1f77b4;stroke:#1f77b4;\" x=\"352.869318\" xlink:href=\"#m76b3ff030f\" y=\"17.083636\"/>\r\n    </g>\r\n   </g>\r\n   <g id=\"line2d_15\">\r\n    <path clip-path=\"url(#p865fed20f5)\" d=\"M 70.245942 214.014007 \r\nL 91.986201 212.977966 \r\nL 113.726461 211.532054 \r\nL 135.466721 209.51412 \r\nL 157.206981 206.697867 \r\nL 178.94724 202.76747 \r\n\" style=\"fill:none;stroke:#ff7f0e;stroke-dasharray:5.55,2.4;stroke-dashoffset:0;stroke-width:1.5;\"/>\r\n   </g>\r\n   <g id=\"patch_3\">\r\n    <path d=\"M 33.2875 224.64 \r\nL 33.2875 7.2 \r\n\" style=\"fill:none;stroke:#000000;stroke-linecap:square;stroke-linejoin:miter;stroke-width:0.8;\"/>\r\n   </g>\r\n   <g id=\"patch_4\">\r\n    <path d=\"M 368.0875 224.64 \r\nL 368.0875 7.2 \r\n\" style=\"fill:none;stroke:#000000;stroke-linecap:square;stroke-linejoin:miter;stroke-width:0.8;\"/>\r\n   </g>\r\n   <g id=\"patch_5\">\r\n    <path d=\"M 33.2875 224.64 \r\nL 368.0875 224.64 \r\n\" style=\"fill:none;stroke:#000000;stroke-linecap:square;stroke-linejoin:miter;stroke-width:0.8;\"/>\r\n   </g>\r\n   <g id=\"patch_6\">\r\n    <path d=\"M 33.2875 7.2 \r\nL 368.0875 7.2 \r\n\" style=\"fill:none;stroke:#000000;stroke-linecap:square;stroke-linejoin:miter;stroke-width:0.8;\"/>\r\n   </g>\r\n  </g>\r\n </g>\r\n <defs>\r\n  <clipPath id=\"p865fed20f5\">\r\n   <rect height=\"217.44\" width=\"334.8\" x=\"33.2875\" y=\"7.2\"/>\r\n  </clipPath>\r\n </defs>\r\n</svg>\r\n",
      "image/png": "[encoded data removed]"
     },
     "metadata": {
      "needs_background": "light"
     }
    }
   ],
   "source": [
    "# Univariate Interpolation \n",
    "from scipy import interpolate\n",
    "x = np.arange(5,20)\n",
    "y = np.exp(x/3.0)\n",
    "f = interpolate.interp1d(x,y)\n",
    "x1 = np.arange(6,12)\n",
    "y1 = f(x1)\n",
    "plt.plot(x,y,'o',x1,y1,'--')\n",
    "plt.show()\n",
    ""
   ]
  },
  {
   "cell_type": "code",
   "execution_count": null,
   "metadata": {},
   "outputs": [],
   "source": []
  }
 ],
 "metadata": {
  "kernelspec": {
   "display_name": "Python 3",
   "language": "python",
   "name": "python3"
  },
  "language_info": {
   "codemirror_mode": {
    "name": "ipython",
    "version": 3
   },
   "file_extension": ".py",
   "mimetype": "text/x-python",
   "name": "python",
   "nbconvert_exporter": "python",
   "pygments_lexer": "ipython3",
   "version": "3.7.4-final"
  }
 },
 "nbformat": 4,
 "nbformat_minor": 4
}